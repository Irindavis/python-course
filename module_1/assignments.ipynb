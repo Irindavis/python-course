{
 "cells": [
  {
   "cell_type": "markdown",
   "id": "3810a6f4-852d-4e2e-9cc9-25ed21304e32",
   "metadata": {},
   "source": [
    "## Module 1 Quiz"
   ]
  },
  {
   "cell_type": "markdown",
   "id": "47b3af4d-b07b-41dc-ae72-17cacbf509ef",
   "metadata": {},
   "source": [
    "### Problem Statement 1\n",
    "\n",
    "**Create** two variables - `var_1` and `var_2` and assign a string and an integer value to each. Create another variable `var_3` and assign the value of `var_2` to `var_3`. Print all the 3 variables in order.\n",
    "\n",
    "**Create** 5 variables (of any name) and initialize each variable with numbers (integers/floating or both) and use any combination of these variables to create a two mathematical expressions `expr_1` and `expr_2`. Perform integer and floating point divisions between `expr_1` and `expr_2` and store the results in new variables `expr[i]` \n",
    "\n",
    "**Apply** modulo operator to calculate the remainder when `expr_1` is divided by `expr_2` and vice versa"
   ]
  },
  {
   "cell_type": "code",
   "execution_count": 10,
   "id": "a7975c9a-b6a0-4ad6-8896-889cb5603f82",
   "metadata": {},
   "outputs": [],
   "source": [
    "# Type your solutions here"
   ]
  },
  {
   "cell_type": "markdown",
   "id": "dc320e3e-c8e3-4ea8-8374-cd9e022f03c0",
   "metadata": {},
   "source": [
    "### Problem Statement 2"
   ]
  },
  {
   "cell_type": "code",
   "execution_count": null,
   "id": "d4ab8d59-1913-4e60-8998-66ab2e2296c3",
   "metadata": {},
   "outputs": [],
   "source": []
  }
 ],
 "metadata": {
  "kernelspec": {
   "display_name": "Python 3 (ipykernel)",
   "language": "python",
   "name": "python3"
  },
  "language_info": {
   "codemirror_mode": {
    "name": "ipython",
    "version": 3
   },
   "file_extension": ".py",
   "mimetype": "text/x-python",
   "name": "python",
   "nbconvert_exporter": "python",
   "pygments_lexer": "ipython3",
   "version": "3.8.13"
  }
 },
 "nbformat": 4,
 "nbformat_minor": 5
}
